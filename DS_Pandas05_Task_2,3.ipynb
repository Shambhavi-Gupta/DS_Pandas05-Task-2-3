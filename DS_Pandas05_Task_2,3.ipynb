{
  "nbformat": 4,
  "nbformat_minor": 0,
  "metadata": {
    "colab": {
      "name": "DS_Pandas05-Task:2,3.ipynb",
      "provenance": [],
      "authorship_tag": "ABX9TyOc9nKxzM0nnnejW9ZnRcSx",
      "include_colab_link": true
    },
    "kernelspec": {
      "name": "python3",
      "display_name": "Python 3"
    }
  },
  "cells": [
    {
      "cell_type": "markdown",
      "metadata": {
        "id": "view-in-github",
        "colab_type": "text"
      },
      "source": [
        "<a href=\"https://colab.research.google.com/github/Shambhavi-Gupta/DS_Pandas05-Task-2-3/blob/master/DS_Pandas05_Task_2%2C3.ipynb\" target=\"_parent\"><img src=\"https://colab.research.google.com/assets/colab-badge.svg\" alt=\"Open In Colab\"/></a>"
      ]
    },
    {
      "cell_type": "markdown",
      "metadata": {
        "id": "PwkZQuUWDwTo",
        "colab_type": "text"
      },
      "source": [
        "#**Task 2:**\n",
        "\n",
        "Given this density series, replace all values which NaNs with the mean density of all planets"
      ]
    },
    {
      "cell_type": "markdown",
      "metadata": {
        "id": "63YFL9UIEKPk",
        "colab_type": "text"
      },
      "source": [
        "#**Task 3:**\n",
        "\n",
        "Compare Dictionary with Series:\n",
        "\n",
        "*   Checking if some key is present\n",
        "*   summing values\n",
        "*   computing std\n",
        "\n",
        "\n",
        "\n",
        "\n",
        "\n"
      ]
    },
    {
      "cell_type": "code",
      "metadata": {
        "id": "n1hDoZ3KDiz0",
        "colab_type": "code",
        "colab": {}
      },
      "source": [
        "import numpy as np\n",
        "import pandas as pd"
      ],
      "execution_count": null,
      "outputs": []
    },
    {
      "cell_type": "code",
      "metadata": {
        "id": "hz0pdtwYEw-j",
        "colab_type": "code",
        "colab": {}
      },
      "source": [
        "mass = pd.Series([0.33 , 4.87 , 5.97 , 0.642 , 1898 , 568 , 86.8 , 102 , 0.0146, 0.7346],\n",
        "                 index = ['Mercury', 'Venus', 'Earth', 'Mars', 'Jupiter', 'Saturn', 'Uranus', 'Neptune', 'Pluto','Moon'])"
      ],
      "execution_count": null,
      "outputs": []
    },
    {
      "cell_type": "code",
      "metadata": {
        "id": "TtosptgyE0Oo",
        "colab_type": "code",
        "colab": {}
      },
      "source": [
        "diameter = pd.Series([4879, 12104, 12756, 3475, 6792, 142984, 120536, 51118, 49528, 2370],\n",
        "                     index =['Mercury', 'Venus', 'Earth','Moon', 'Mars', 'Jupiter', 'Saturn','Uranus','Neptune', 'Pluto'])"
      ],
      "execution_count": null,
      "outputs": []
    },
    {
      "cell_type": "code",
      "metadata": {
        "id": "7JNj9Gj2E35J",
        "colab_type": "code",
        "colab": {
          "base_uri": "https://localhost:8080/",
          "height": 71
        },
        "outputId": "9583d03a-277e-4fe3-bd9f-4f7f07e6a7eb"
      },
      "source": [
        "density = pd.Series([])"
      ],
      "execution_count": null,
      "outputs": [
        {
          "output_type": "stream",
          "text": [
            "/usr/local/lib/python3.6/dist-packages/ipykernel_launcher.py:1: DeprecationWarning: The default dtype for empty Series will be 'object' instead of 'float64' in a future version. Specify a dtype explicitly to silence this warning.\n",
            "  \"\"\"Entry point for launching an IPython kernel.\n"
          ],
          "name": "stderr"
        }
      ]
    },
    {
      "cell_type": "code",
      "metadata": {
        "id": "O7dwIdMfFAiD",
        "colab_type": "code",
        "colab": {}
      },
      "source": [
        "for planet in mass.index:\n",
        "    density[planet] = mass[planet] / (np.pi * diameter[planet] * diameter[planet] * diameter[planet] /6)"
      ],
      "execution_count": null,
      "outputs": []
    },
    {
      "cell_type": "code",
      "metadata": {
        "id": "bKeMuquAFFK7",
        "colab_type": "code",
        "colab": {
          "base_uri": "https://localhost:8080/",
          "height": 204
        },
        "outputId": "48e9d049-8d57-4aa6-831f-b54b5ea4df44"
      },
      "source": [
        "print(density)"
      ],
      "execution_count": null,
      "outputs": [
        {
          "output_type": "stream",
          "text": [
            "Mercury    5.426538e-12\n",
            "Venus      5.244977e-12\n",
            "Earth      5.493286e-12\n",
            "Mars       3.913302e-12\n",
            "Jupiter    1.240039e-12\n",
            "Saturn     6.194402e-13\n",
            "Uranus     1.241079e-12\n",
            "Neptune    1.603427e-12\n",
            "Pluto      2.094639e-12\n",
            "Moon       3.343396e-11\n",
            "dtype: float64\n"
          ],
          "name": "stdout"
        }
      ]
    },
    {
      "cell_type": "code",
      "metadata": {
        "id": "XO4po1wtFHJf",
        "colab_type": "code",
        "colab": {}
      },
      "source": [
        "mass['PlanetX'] = 6"
      ],
      "execution_count": null,
      "outputs": []
    },
    {
      "cell_type": "code",
      "metadata": {
        "id": "nWD-1GGfFOmz",
        "colab_type": "code",
        "colab": {}
      },
      "source": [
        "density = mass / (np.pi * np.power(diameter ,3) / 6)"
      ],
      "execution_count": null,
      "outputs": []
    },
    {
      "cell_type": "code",
      "metadata": {
        "id": "6EB6mGSwFbBf",
        "colab_type": "code",
        "colab": {
          "base_uri": "https://localhost:8080/",
          "height": 221
        },
        "outputId": "79442d03-b1d8-4e4b-82e6-c734bfab15ea"
      },
      "source": [
        "density"
      ],
      "execution_count": null,
      "outputs": [
        {
          "output_type": "execute_result",
          "data": {
            "text/plain": [
              "Earth      5.493286e-12\n",
              "Jupiter    1.240039e-12\n",
              "Mars       3.913302e-12\n",
              "Mercury    5.426538e-12\n",
              "Moon       3.343396e-11\n",
              "Neptune    1.603427e-12\n",
              "PlanetX             NaN\n",
              "Pluto      2.094639e-12\n",
              "Saturn     6.194402e-13\n",
              "Uranus     1.241079e-12\n",
              "Venus      5.244977e-12\n",
              "dtype: float64"
            ]
          },
          "metadata": {
            "tags": []
          },
          "execution_count": 28
        }
      ]
    },
    {
      "cell_type": "code",
      "metadata": {
        "id": "oOpxg0rzFdEa",
        "colab_type": "code",
        "colab": {}
      },
      "source": [
        "density_mean = np.mean(density)\n",
        "\n",
        "for key in density.index:\n",
        "    if pd.isnull(density[key]):\n",
        "        density[key] = density_mean"
      ],
      "execution_count": null,
      "outputs": []
    },
    {
      "cell_type": "code",
      "metadata": {
        "id": "sCtbYl51GRkU",
        "colab_type": "code",
        "colab": {
          "base_uri": "https://localhost:8080/",
          "height": 221
        },
        "outputId": "be4bf724-b65f-41cc-9d51-7516f57523f4"
      },
      "source": [
        "print(density)"
      ],
      "execution_count": null,
      "outputs": [
        {
          "output_type": "stream",
          "text": [
            "Earth      5.493286e-12\n",
            "Jupiter    1.240039e-12\n",
            "Mars       3.913302e-12\n",
            "Mercury    5.426538e-12\n",
            "Moon       3.343396e-11\n",
            "Neptune    1.603427e-12\n",
            "PlanetX    6.031069e-12\n",
            "Pluto      2.094639e-12\n",
            "Saturn     6.194402e-13\n",
            "Uranus     1.241079e-12\n",
            "Venus      5.244977e-12\n",
            "dtype: float64\n"
          ],
          "name": "stdout"
        }
      ]
    },
    {
      "cell_type": "code",
      "metadata": {
        "id": "EMETp330GuqB",
        "colab_type": "code",
        "colab": {}
      },
      "source": [
        "density[pd.isnull(density)] = np.mean(density)"
      ],
      "execution_count": null,
      "outputs": []
    },
    {
      "cell_type": "code",
      "metadata": {
        "id": "IgMuC4tTHSvH",
        "colab_type": "code",
        "colab": {
          "base_uri": "https://localhost:8080/",
          "height": 221
        },
        "outputId": "103e9a91-c204-4a69-8ab0-72f6d274e51e"
      },
      "source": [
        "print(density)"
      ],
      "execution_count": null,
      "outputs": [
        {
          "output_type": "stream",
          "text": [
            "Earth      5.493286e-12\n",
            "Jupiter    1.240039e-12\n",
            "Mars       3.913302e-12\n",
            "Mercury    5.426538e-12\n",
            "Moon       3.343396e-11\n",
            "Neptune    1.603427e-12\n",
            "PlanetX    6.031069e-12\n",
            "Pluto      2.094639e-12\n",
            "Saturn     6.194402e-13\n",
            "Uranus     1.241079e-12\n",
            "Venus      5.244977e-12\n",
            "dtype: float64\n"
          ],
          "name": "stdout"
        }
      ]
    },
    {
      "cell_type": "code",
      "metadata": {
        "id": "y2lqp7IyHrok",
        "colab_type": "code",
        "colab": {}
      },
      "source": [
        "my_dict = {}\n",
        "N = 100000\n",
        "for i in range (N):\n",
        "    my_dict[i] = i%10"
      ],
      "execution_count": null,
      "outputs": []
    },
    {
      "cell_type": "code",
      "metadata": {
        "id": "t3IK7Y9uIcGB",
        "colab_type": "code",
        "colab": {}
      },
      "source": [
        "my_series = pd.Series(my_dict)"
      ],
      "execution_count": null,
      "outputs": []
    },
    {
      "cell_type": "code",
      "metadata": {
        "id": "6hgLfHurIt6V",
        "colab_type": "code",
        "colab": {}
      },
      "source": [
        "M = 10000"
      ],
      "execution_count": null,
      "outputs": []
    },
    {
      "cell_type": "code",
      "metadata": {
        "id": "RgVJ3umoJAy9",
        "colab_type": "code",
        "colab": {}
      },
      "source": [
        "arr = np.random.randint(0 ,N ,M)"
      ],
      "execution_count": null,
      "outputs": []
    },
    {
      "cell_type": "code",
      "metadata": {
        "id": "HvKGA5dqJJWW",
        "colab_type": "code",
        "colab": {
          "base_uri": "https://localhost:8080/",
          "height": 34
        },
        "outputId": "3392d5bf-1e52-47b8-953c-9ba013dc4574"
      },
      "source": [
        "%%timeit\n",
        "for i  in arr:\n",
        "    i in my_dict"
      ],
      "execution_count": null,
      "outputs": [
        {
          "output_type": "stream",
          "text": [
            "100 loops, best of 3: 3.87 ms per loop\n"
          ],
          "name": "stdout"
        }
      ]
    },
    {
      "cell_type": "code",
      "metadata": {
        "id": "dmBIIY6XJf-V",
        "colab_type": "code",
        "colab": {
          "base_uri": "https://localhost:8080/",
          "height": 34
        },
        "outputId": "f52da3b6-a8b9-4852-947f-112b6d78b89e"
      },
      "source": [
        "%%timeit\n",
        "for i in arr:\n",
        "    i in my_series"
      ],
      "execution_count": null,
      "outputs": [
        {
          "output_type": "stream",
          "text": [
            "100 loops, best of 3: 10.4 ms per loop\n"
          ],
          "name": "stdout"
        }
      ]
    },
    {
      "cell_type": "code",
      "metadata": {
        "id": "837K6OklJtNj",
        "colab_type": "code",
        "colab": {
          "base_uri": "https://localhost:8080/",
          "height": 34
        },
        "outputId": "347a4650-7632-458d-9034-bd0464b44f63"
      },
      "source": [
        "%%timeit\n",
        "sum(my_dict.values())"
      ],
      "execution_count": null,
      "outputs": [
        {
          "output_type": "stream",
          "text": [
            "1000 loops, best of 3: 699 µs per loop\n"
          ],
          "name": "stdout"
        }
      ]
    },
    {
      "cell_type": "code",
      "metadata": {
        "id": "GnGyk4tnKQvm",
        "colab_type": "code",
        "colab": {
          "base_uri": "https://localhost:8080/",
          "height": 51
        },
        "outputId": "36461ff1-92eb-4195-c213-0337cb9b466d"
      },
      "source": [
        "%%timeit\n",
        "np.sum(my_series)"
      ],
      "execution_count": null,
      "outputs": [
        {
          "output_type": "stream",
          "text": [
            "The slowest run took 4.52 times longer than the fastest. This could mean that an intermediate result is being cached.\n",
            "10000 loops, best of 3: 160 µs per loop\n"
          ],
          "name": "stdout"
        }
      ]
    },
    {
      "cell_type": "code",
      "metadata": {
        "id": "LwXJolF4Kkw8",
        "colab_type": "code",
        "colab": {
          "base_uri": "https://localhost:8080/",
          "height": 34
        },
        "outputId": "243b836e-d2c7-4dff-cc85-10344cee7438"
      },
      "source": [
        "%%timeit\n",
        "mean = sum(my_dict.values()) / N\n",
        "variance = sum([(x - mean)**2 for x in my_dict.values()])\n",
        "std = variance**0.5"
      ],
      "execution_count": null,
      "outputs": [
        {
          "output_type": "stream",
          "text": [
            "100 loops, best of 3: 13.8 ms per loop\n"
          ],
          "name": "stdout"
        }
      ]
    },
    {
      "cell_type": "code",
      "metadata": {
        "id": "TqrDwhHXLnsR",
        "colab_type": "code",
        "colab": {
          "base_uri": "https://localhost:8080/",
          "height": 34
        },
        "outputId": "c3b4eb2a-3781-4931-d323-052071111ce8"
      },
      "source": [
        "%%timeit\n",
        "np.std(my_series)"
      ],
      "execution_count": null,
      "outputs": [
        {
          "output_type": "stream",
          "text": [
            "1000 loops, best of 3: 367 µs per loop\n"
          ],
          "name": "stdout"
        }
      ]
    },
    {
      "cell_type": "code",
      "metadata": {
        "id": "dh-hqerpL0xN",
        "colab_type": "code",
        "colab": {}
      },
      "source": [
        ""
      ],
      "execution_count": null,
      "outputs": []
    }
  ]
}